{
  "nbformat": 4,
  "nbformat_minor": 0,
  "metadata": {
    "colab": {
      "name": "excercise 1.ipynb",
      "provenance": [],
      "authorship_tag": "ABX9TyOErZeuuD+FnB3pDwQVmVMd",
      "include_colab_link": true
    },
    "kernelspec": {
      "name": "python3",
      "display_name": "Python 3"
    }
  },
  "cells": [
    {
      "cell_type": "markdown",
      "metadata": {
        "id": "view-in-github",
        "colab_type": "text"
      },
      "source": [
        "<a href=\"https://colab.research.google.com/github/vsrajanin/Machine-Learning/blob/master/excercise_1.ipynb\" target=\"_parent\"><img src=\"https://colab.research.google.com/assets/colab-badge.svg\" alt=\"Open In Colab\"/></a>"
      ]
    },
    {
      "cell_type": "code",
      "metadata": {
        "id": "g5i40wNBh12W",
        "colab_type": "code",
        "colab": {}
      },
      "source": [
        "import tensorflow as tf\n"
      ],
      "execution_count": 0,
      "outputs": []
    },
    {
      "cell_type": "code",
      "metadata": {
        "id": "thqMTe9wn-ZP",
        "colab_type": "code",
        "colab": {
          "base_uri": "https://localhost:8080/",
          "height": 34
        },
        "outputId": "96bf609e-0659-41f9-d374-0c948da5d2e9"
      },
      "source": [
        "print(tf.__version__)"
      ],
      "execution_count": 21,
      "outputs": [
        {
          "output_type": "stream",
          "text": [
            "1.15.2\n"
          ],
          "name": "stdout"
        }
      ]
    },
    {
      "cell_type": "code",
      "metadata": {
        "id": "kNwSXboFoJQa",
        "colab_type": "code",
        "colab": {}
      },
      "source": [
        "x=tf.constant(20,name=\"x\")\n",
        "y=tf.constant(10,name=\"y\")"
      ],
      "execution_count": 0,
      "outputs": []
    },
    {
      "cell_type": "code",
      "metadata": {
        "id": "JgtHbSyEo80e",
        "colab_type": "code",
        "colab": {}
      },
      "source": [
        "z=tf.square(x,name=\"z\")"
      ],
      "execution_count": 0,
      "outputs": []
    },
    {
      "cell_type": "code",
      "metadata": {
        "id": "eAzfeLHdpfmN",
        "colab_type": "code",
        "colab": {}
      },
      "source": [
        "a=tf.multiply(z,y,name=\"a\")"
      ],
      "execution_count": 0,
      "outputs": []
    },
    {
      "cell_type": "code",
      "metadata": {
        "id": "A6Pu5azHqgxl",
        "colab_type": "code",
        "colab": {}
      },
      "source": [
        "b=tf.add(a,y,name=\"b\")"
      ],
      "execution_count": 0,
      "outputs": []
    },
    {
      "cell_type": "code",
      "metadata": {
        "id": "i1nwyVsfuQ0j",
        "colab_type": "code",
        "colab": {}
      },
      "source": [
        "c=tf.add(b,2,name=\"c\")"
      ],
      "execution_count": 0,
      "outputs": []
    },
    {
      "cell_type": "code",
      "metadata": {
        "id": "MVl50OB2uZzw",
        "colab_type": "code",
        "colab": {
          "base_uri": "https://localhost:8080/",
          "height": 34
        },
        "outputId": "8e61f169-7d0a-41fe-8dc7-c13316daa860"
      },
      "source": [
        "print(c)"
      ],
      "execution_count": 17,
      "outputs": [
        {
          "output_type": "stream",
          "text": [
            "Tensor(\"c:0\", shape=(), dtype=int32)\n"
          ],
          "name": "stdout"
        }
      ]
    },
    {
      "cell_type": "code",
      "metadata": {
        "id": "tCVL8kyXudnh",
        "colab_type": "code",
        "colab": {}
      },
      "source": [
        "session = tf.Session()"
      ],
      "execution_count": 0,
      "outputs": []
    },
    {
      "cell_type": "code",
      "metadata": {
        "id": "krXZ87KwuiKN",
        "colab_type": "code",
        "colab": {}
      },
      "source": [
        "result = session.run(c)"
      ],
      "execution_count": 0,
      "outputs": []
    },
    {
      "cell_type": "code",
      "metadata": {
        "id": "aSM6u6m6utho",
        "colab_type": "code",
        "colab": {
          "base_uri": "https://localhost:8080/",
          "height": 34
        },
        "outputId": "31daae07-06b6-46e7-9e2d-4a55d5012070"
      },
      "source": [
        "print(result)"
      ],
      "execution_count": 29,
      "outputs": [
        {
          "output_type": "stream",
          "text": [
            "4012\n"
          ],
          "name": "stdout"
        }
      ]
    }
  ]
}